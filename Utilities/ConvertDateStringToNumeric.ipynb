{
 "cells": [
  {
   "cell_type": "markdown",
   "metadata": {},
   "source": [
    "# Updating the Date String to an Integer\n",
    "The goal of this notebook is to convert the Job Posting Date to a number so that we can filter. We've discovered that this is being stored in Pinecone as a string and not a Date Object. \n",
    "\n",
    "String = \"2024-02-27\"\n",
    "Int = Number of days since epoch\n",
    "\n",
    "This notebook is used for exploratory purposes so that we further understand the structure of the data, prove the ability to convert a single record to the correct date format and then finally, we have a block of code that downloads the list of IDs in the namespaces so that the script ConvertDateStringToNumeric.py can do all the heavy lifting. "
   ]
  },
  {
   "cell_type": "code",
   "execution_count": 37,
   "metadata": {},
   "outputs": [],
   "source": [
    "import logging\n",
    "import os\n",
    "from dotenv import load_dotenv\n",
    "\n",
    "from pinecone import Pinecone, ServerlessSpec\n",
    "\n",
    "load_dotenv('.env')\n",
    "\n",
    "index = \"job-postings\"\n",
    "namespace = \"full-posting-description\"\n",
    "pineconeApiKey = os.getenv(\"PINECONE_API_KEY\")"
   ]
  },
  {
   "cell_type": "code",
   "execution_count": 38,
   "metadata": {},
   "outputs": [
    {
     "name": "stdout",
     "output_type": "stream",
     "text": [
      "{'dimension': 768,\n",
      " 'index_fullness': 0.0,\n",
      " 'namespaces': {'full-posting-description': {'vector_count': 27733},\n",
      "                'full_posting_description': {'vector_count': 1},\n",
      "                'job-description': {'vector_count': 1},\n",
      "                'job-title': {'vector_count': 27732},\n",
      "                'short-job-description': {'vector_count': 27730}},\n",
      " 'total_vector_count': 83197}\n"
     ]
    }
   ],
   "source": [
    "pc = Pinecone(pineconeApiKey)\n",
    "index = pc.Index(index)\n",
    "\n",
    "\n",
    "print(index.describe_index_stats())\n",
    "\n",
    "with open('full-posting-description.txt', 'w') as file:\n",
    "    for ids_list in index.list(namespace=namespace):\n",
    "        for id in ids_list:  # ids_list is a list of IDs\n",
    "            # Write each ID to the file followed by a newline\n",
    "            file.write(id + '\\n')\n"
   ]
  },
  {
   "cell_type": "markdown",
   "metadata": {},
   "source": [
    "# This next block contains the code that is required to modify the date string and convert to an integer"
   ]
  },
  {
   "cell_type": "code",
   "execution_count": 29,
   "metadata": {},
   "outputs": [],
   "source": [
    "from datetime import datetime\n",
    "\n",
    "def date_to_integer(date_str, epoch_str='1970-01-01'):\n",
    "    date = datetime.strptime(date_str, '%Y-%m-%d')\n",
    "    epoch = datetime.strptime(epoch_str, '%Y-%m-%d')\n",
    "    delta = date - epoch\n",
    "    return delta.days\n",
    "\n",
    "\n"
   ]
  },
  {
   "cell_type": "code",
   "execution_count": 30,
   "metadata": {},
   "outputs": [
    {
     "name": "stdout",
     "output_type": "stream",
     "text": [
      "19733\n"
     ]
    }
   ],
   "source": [
    "# Example\n",
    "job_posting_date = \"2024-01-11\"\n",
    "date_numeric = date_to_integer(job_posting_date)\n",
    "print(date_numeric)"
   ]
  },
  {
   "cell_type": "code",
   "execution_count": 28,
   "metadata": {},
   "outputs": [
    {
     "name": "stdout",
     "output_type": "stream",
     "text": [
      "19786 19831\n"
     ]
    }
   ],
   "source": [
    "def get_date_range_for_last_n_days(days=45, base_date=None):\n",
    "    if base_date is None:\n",
    "        base_date = datetime.today()\n",
    "    else:\n",
    "        base_date = datetime.strptime(base_date, '%Y-%m-%d')\n",
    "\n",
    "    epoch = datetime.strptime('1970-01-01', '%Y-%m-%d')\n",
    "    end_date_numeric = (base_date - epoch).days\n",
    "    start_date_numeric = end_date_numeric - days\n",
    "\n",
    "    return start_date_numeric, end_date_numeric\n",
    "\n",
    "# For today's date\n",
    "start_date_numeric, end_date_numeric = get_date_range_for_last_n_days()\n",
    "print(start_date_numeric, end_date_numeric)\n"
   ]
  },
  {
   "cell_type": "markdown",
   "metadata": {},
   "source": [
    "### The block below here is intended as a short, \"Hello World\" to prove the code for converting a string date in to interger works as we expect it to. "
   ]
  },
  {
   "cell_type": "code",
   "execution_count": 31,
   "metadata": {},
   "outputs": [
    {
     "name": "stdout",
     "output_type": "stream",
     "text": [
      "2024-01-08\n",
      "19730\n"
     ]
    }
   ],
   "source": [
    "id = \"0002a176-7601-462e-8e8d-c42d25fddaf8\"\n",
    "\n",
    "\n",
    "vectorFromPinecone = index.fetch(ids=[id], namespace=namespace)\n",
    "jobPostingDateFromPineCone = vectorFromPinecone['vectors'][id]['metadata']['job_posting_date']\n",
    "\n",
    "print(jobPostingDateFromPineCone)\n",
    "\n",
    "numberOfDaysSinceEpoc = date_to_integer(jobPostingDateFromPineCone)\n",
    "\n",
    "print(numberOfDaysSinceEpoc)\n"
   ]
  }
 ],
 "metadata": {
  "kernelspec": {
   "display_name": "Python 3",
   "language": "python",
   "name": "python3"
  },
  "language_info": {
   "codemirror_mode": {
    "name": "ipython",
    "version": 3
   },
   "file_extension": ".py",
   "mimetype": "text/x-python",
   "name": "python",
   "nbconvert_exporter": "python",
   "pygments_lexer": "ipython3",
   "version": "3.12.3"
  }
 },
 "nbformat": 4,
 "nbformat_minor": 2
}
